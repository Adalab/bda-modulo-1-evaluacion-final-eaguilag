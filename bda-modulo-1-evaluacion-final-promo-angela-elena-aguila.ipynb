{
 "cells": [
  {
   "cell_type": "markdown",
   "metadata": {},
   "source": [
    "# Evaluación Final Módulo 1"
   ]
  },
  {
   "cell_type": "markdown",
   "metadata": {},
   "source": [
    "## Ejercicio"
   ]
  },
  {
   "cell_type": "markdown",
   "metadata": {},
   "source": [
    "A lo largo de esta evaluación tendrás que crear una clase llamada `TiendaOnline` que cumpla los siguientes requisitos:\n",
    "\n",
    "- La clase `TiendaOnline` debe tener los siguientes atributos:\n",
    "\n",
    "    1. `inventario` (lista de diccionarios): Un atributo para almacenar los productos en el inventario. Cada producto debe ser representado como un diccionario con las siguientes claves: `'nombre'`, `'precio'`, y `'cantidad'`. Al principio deberá ser una lista vacía. Ejemplo de como debería ser:\n",
    "\n",
    "        ```python\n",
    "        [{'nombre': 'Camisa', 'precio': 20, 'cantidad': 40},\n",
    "        {'nombre': 'Pantalón', 'precio': 30, 'cantidad': 30}]\n",
    "        ```\n",
    "\n",
    "    2. `clientes` (diccionario): Un atributo para llevar un registro de los clientes de la tienda. Cada cliente debe ser representado como un diccionario con las siguientes claves: `'nombre'` y `'email'`. Al inicio deberá ser un diccionario vacío. Además, cada cliente debe tener un historial de compras. Deberá parecerse a:\n",
    "\n",
    "        ```python\n",
    "        {'Cliente1': {'email': 'cliente1@email.com', 'compras': []},\n",
    "        'Cliente2': {'email': 'cliente2@email.com', 'compras': []}}\n",
    "        ```\n",
    "\n",
    "    3. `ventas_totales` (float): Un atributo para llevar un registro de las ventas totales de la tienda. Inicializalo con valor 0.\n"
   ]
  },
  {
   "cell_type": "markdown",
   "metadata": {},
   "source": [
    "\n",
    "- La clase `TiendaOnline` debe tener los siguientes métodos:\n",
    "\n",
    "    1. `agregar_producto(self, nombre, precio, cantidad)`: Este método agrega un producto al inventario o actualiza su cantidad si ya existe. Debe recibir el nombre, precio y cantidad del producto como parámetros.\n",
    "    \n",
    "        - Itera a través del inventario y compara los nombres de los productos con el nombre proporcionado.\n",
    "\n",
    "        - Si el producto ya existe, actualiza la cantidad.\n",
    "\n",
    "        - Si no existe, agrega un nuevo producto al inventario.\n",
    "    \n",
    "    2. `ver_inventario(self)`: Muestra el inventario de productos con sus detalles.\n",
    "\n",
    "        - Utiliza un bucle for para recorrer el inventario.\n",
    "\n",
    "        - Imprime los detalles (nombre, precio, cantidad) de cada producto.\n",
    "\n",
    "        - Debería verse:\n",
    "\n",
    "            ```python\n",
    "            Nombre: Camisa, Precio: $20, Cantidad: 50\n",
    "            Nombre: Pantalón, Precio: $30, Cantidad: 30\n",
    "            Nombre: Zapatos, Precio: $50, Cantidad: 40\n",
    "            ```\n",
    "\n",
    "    3. `buscar_producto(self, nombre)`: Busca un producto en el inventario por nombre y muestra sus detalles si se encuentra. Debe recibir el nombre del producto como parámetro.\n",
    "\n",
    "        - Utiliza un bucle for para recorrer el inventario.\n",
    "\n",
    "        - Compara los nombres de los productos con el nombre proporcionado.\n",
    "\n",
    "        - Si se encuentra el producto, imprime sus detalles.\n",
    "\n",
    "        - Debe mostrar:\n",
    "\n",
    "            ```python\n",
    "            Nombre: Camisa, Precio: $20, Cantidad: 40\n",
    "            ```\n",
    "\n",
    "    4. `actualizar_stock(self, nombre, cantidad)`: Actualiza el stock de un producto en el inventario. Debe recibir el nombre del producto y la cantidad a agregar o quitar como parámetros.\n",
    "\n",
    "        - Utiliza un bucle `for` para recorrer el inventario.\n",
    "\n",
    "        - Busca el producto por nombre.\n",
    "\n",
    "        - Actualiza la cantidad según la entrada del usuario.\n",
    "\n",
    "        - Si el producto no esta en el inventario muestra un mensaje indicándolo.\n",
    "\n",
    "    5. `eliminar_producto(self, nombre)`: Elimina un producto del inventario por nombre. Debe recibir el nombre del producto como parámetro.\n",
    "\n",
    "        - Utiliza un bucle `for` para recorrer el inventario.\n",
    "        \n",
    "        - Busca el producto por nombre.\n",
    "\n",
    "        - Elimina el producto del inventario si existe.\n",
    "\n",
    "        - Si el producto no esta en el inventario muestra un mensaje indicándolo.\n",
    "\n",
    "    6. `calcular_valor_inventario(self)`: Calcula y muestra el valor total del inventario.\n",
    "\n",
    "        - Utiliza un bucle for para calcular el valor total del inventario.\n",
    "\n",
    "         - Itera a través del inventario y suma el valor de cada producto (precio x cantidad). Es decir, calcula el valor total del inventario. Ejemplo:\n",
    "\n",
    "            ```python\n",
    "            # si tenemos 5 camisas que valen 5 euros\n",
    "            # y 10 calcetines que valen 1 euro\n",
    "            # este método te tiene que devolver: 35 euros\n",
    "            valor_camisas = 5 * 5\n",
    "            valor_calcetines = 10 * 1\n",
    "            valor_camisas + valor_calcetines = 35\n",
    "            ```\n",
    "\n",
    "    7. `buscar_producto_regex(self, patron)`: Busca productos en el inventario que coincidan con un patrón de búsqueda en formato regex en el nombre y muestra los resultados. Debe recibir el patrón como parámetro.\n",
    "\n",
    "        - Utiliza un bucle `for` para recorrer el inventario.\n",
    "\n",
    "        - Utiliza la función más apropiada para buscar coincidencias con el patrón de expresión regular.\n",
    "\n",
    "        - Agrega los productos encontrados a una lista y luego imprime sus detalles.\n",
    "\n",
    "    8. `realizar_compra(self)`: Permite a un cliente realizar una compra seleccionando productos del inventario. Debe interactuar con el cliente para seleccionar productos y calcular el costo total de la compra.\n",
    "\n",
    "        - Utiliza un bucle `while` para permitir al cliente realizar múltiples compras.\n",
    "\n",
    "        - Muestra el inventario y solicita al cliente ingresar el nombre del producto que desea comprar.\n",
    "\n",
    "        - Registra los productos seleccionados en un carrito y actualiza el inventario.\n",
    "\n",
    "        - Calcula el costo total de la compra.\n",
    "\n",
    "    9. `procesar_pago(self)`: Procesa el pago de una compra, calcula el cambio y muestra un mensaje de confirmación.\n",
    "\n",
    "        - Utiliza un bloque `try...except` para manejar excepciones.\n",
    "\n",
    "        - Solicita al cliente ingresar la cantidad total y la cantidad de pago usando un input.\n",
    "\n",
    "        - Calcula el cambio y muestra un mensaje de pago exitoso o un error en caso de monto insuficiente.\n",
    "\n",
    "    10. `agregar_cliente(self, nombre, email)`: Agrega un nuevo cliente al registro de clientes. Debe recibir el nombre y el correo electrónico del cliente como parámetros.\n",
    "\n",
    "        - Agrega un cliente al diccionario de clientes con su nombre y correo electrónico.\n",
    "\n",
    "    11. `ver_clientes(self)`: Muestra la lista de clientes registrados con sus nombres y correos electrónicos.\n",
    "\n",
    "        - Utiliza un bucle `for` para recorrer la base de datos de clientes.\n",
    "\n",
    "        - Imprime los detalles de cada cliente (nombre y correo electrónico).\n",
    "\n",
    "    12. `registrar_compra(self, nombre_cliente, carrito)`: Registra una compra para un cliente, actualiza las ventas totales y agrega la compra al historial del cliente. Debe recibir el nombre del cliente y el carrito de compras como parámetros.\n",
    "\n",
    "        - Busca al cliente en el diccionario de clientes.\n",
    "\n",
    "        - Si el cliente no esta en el diccionario de clientes, muestra que no se puede realizar la acción por que el cliente no está en el diccionario.\n",
    "\n",
    "        - Calcula el total de la compra y registra la compra, incluyendo los productos y el total.\n",
    "\n",
    "        - Ejemplo:\n",
    "\n",
    "            ```python\n",
    "            carrito_cliente1 = {\"Camisa\": {\"precio\": 20, \"cantidad\": 3}}\n",
    "            tienda.registrar_compra(\"Cliente1\", carrito_cliente1)\n",
    "            ```\n",
    "    \n",
    "    13. `ver_compras_cliente(self, nombre_cliente)`: Muestra el historial de compras de un cliente. Debe recibir el nombre del cliente como parámetro.\n",
    "\n",
    "        - Busca al cliente en el diccionario de clientes.\n",
    "\n",
    "        - Muestra las compras realizadas por el cliente, incluyendo detalles de productos y totales.\n",
    "\n",
    "    14. `calcular_ventas_totales(self)`: Muestra las ventas totales de la tienda.\n",
    "\n",
    "        - Suma los totales de todas las compras realizadas y muestra el total de ventas totales en la tienda.\n",
    "\n",
    "Instrucciones Adicionales:\n",
    "\n",
    "- Debes crear instancias de la clase `TiendaOnline` y probar cada uno de los métodos para demostrar que funcionan correctamente.\n"
   ]
  },
  {
   "cell_type": "code",
   "execution_count": 1,
   "metadata": {},
   "outputs": [],
   "source": [
    "# Importo la libreria 're' para trabajar con regex en el Metodo 7\n",
    "import re\n",
    "\n",
    "# Creo la clase llamada TiendaOnline\n",
    "class TiendaOnline:\n",
    "\n",
    "    # Metodo constructor\n",
    "    def __init__(self, nombre):\n",
    "        self.nombre = nombre\n",
    "        # Inicializo los atributos que me piden\n",
    "        self.inventario = [] # Lista para almacenar los productos \n",
    "        self.clientes = {} # Diccionario para almacenar clientes\n",
    "        self.ventas_totales = 0.0 # Float con valor inicial 0\n",
    "    \n",
    "    # Metodo 1. Agregar producto al inventario o actualizar su cantidad\n",
    "    def agregar_producto(self, nombre, precio, cantidad):\n",
    "        # Recorro los productos del inventario\n",
    "        for producto in self.inventario:\n",
    "            # Verifico si el producto existe en el inventario\n",
    "            if nombre.lower() == producto['nombre'].lower():\n",
    "                # Si el producto ya existe, actualizo la cantidad\n",
    "                producto['cantidad'] = cantidad\n",
    "                # Devuelvo el iventario actualizado\n",
    "                print(f'El producto {nombre} ya estaba en el inventario. La cantidad ha sido actualizada a {cantidad}.')\n",
    "                return self.inventario\n",
    "        # Si no existe, lo añade a la lista del inventario\n",
    "        self.inventario.append({'nombre' : nombre, 'precio' : precio, 'cantidad' : cantidad})\n",
    "        # Muestro un mensaje de que se ha añadido con exito\n",
    "        print(f'El producto {nombre} se ha añadido al inventario.')\n",
    "        return self.inventario\n",
    "    \n",
    "    # Metodo 2. Agregar producto al inventario o actualizar su cantidad\n",
    "    def ver_inventario(self):\n",
    "        # Recorro los productos el inventario con un bucle for\n",
    "        for producto in self.inventario:\n",
    "            # Obtengo la informacion del producto\n",
    "            nombre = producto['nombre']\n",
    "            precio = producto['precio']\n",
    "            cantidad = producto['cantidad']\n",
    "            # Muestro la informacion del producto\n",
    "            print(f'Nombre: {nombre}, Precio: {precio}, Cantidad: {cantidad}')\n",
    "    \n",
    "    # Metodo 3. Buscar producto en inventario y mostrar detalles\n",
    "    def buscar_producto(self, nombre):\n",
    "        # Recorro los productos del inventario\n",
    "        for producto in self.inventario:\n",
    "            # Verifico si el producto existe en el inventario\n",
    "            if nombre.lower() == producto['nombre'].lower():\n",
    "                # Si encuentra el producto, obtengo la informacion del producto\n",
    "                precio = producto['precio']\n",
    "                cantidad = producto['cantidad']\n",
    "                # Imprimo sus detalles\n",
    "                info_producto = f'Nombre: {nombre}, Precio: {precio}, Cantidad: {cantidad}'\n",
    "                return info_producto\n",
    "        # Si no encuentra el producto en el inventario, muestro mensaje de error\n",
    "        print(f'El producto {nombre} no se encuentra en el inventario.')\n",
    "\n",
    "    # Metodo 4. Actualizar el stock de un producto\n",
    "    def actualizar_stock(self, nombre, cantidad):\n",
    "        # Recorro los productos del inventario\n",
    "        for producto in self.inventario:\n",
    "            # Busco el producto en el inventario por nombre\n",
    "            if nombre.lower() == producto['nombre'].lower():\n",
    "                # Si el producto ya existe, actualizo la cantidad\n",
    "                producto['cantidad'] += cantidad\n",
    "                # Obtengo los datos\n",
    "                precio = producto['precio']\n",
    "                nueva_cantidad = producto['cantidad']\n",
    "                # Mostramos el los detalles del producto actualizados\n",
    "                info_producto = f'Nombre: {nombre}, Precio: {precio}, Cantidad: {nueva_cantidad}'\n",
    "                return info_producto\n",
    "        # Si no se ha encontrado el producto muestra mensaje de error\n",
    "        print(f'El producto {nombre} no se encuentra en el inventario.')\n",
    "\n",
    "    # Metodo 5. Eliminar un producto del inventario\n",
    "    def eliminar_producto(self, nombre):\n",
    "        # Recorro el inventario segun su longitud\n",
    "        for producto in self.inventario:\n",
    "            # Busco el producto en el inventario por nombre\n",
    "            if nombre.lower() == producto['nombre'].lower():\n",
    "                # Elimino el producto si existe\n",
    "                self.inventario.remove(producto)\n",
    "                print(f'El producto {nombre} se ha eliminado correctamente.')\n",
    "                return self.inventario\n",
    "        # Si no se ha encontrado el producto muestra mensaje de error\n",
    "        print(f'El producto {nombre} no se encuentra en el inventario.')\n",
    "\n",
    "    # Metodo 6. Calcular valor total de inventario \n",
    "    def calcular_valor_inventario(self):    \n",
    "        # Voy a guardar en una lista los valores de los productos (precio*cantidad)        \n",
    "        valor_inventario = []\n",
    "        # Recorro el inventario\n",
    "        for producto in self.inventario:\n",
    "            # Calculo el valor del producto que itero y lo añado a la lista\n",
    "            valor_producto = producto['precio'] * producto['cantidad']\n",
    "            valor_inventario.append(valor_producto)\n",
    "        # Devuelvo la suma de todos los valores de producto que habia guardado en la lista\n",
    "        return sum(valor_inventario)\n",
    "    \n",
    "    # Metodo 7. Buscar producto con patron en nombre\n",
    "    def buscar_producto_regex(self,patron):\n",
    "        # Guardo en una lista los productos encontrados\n",
    "        productos_encontrados = []\n",
    "        # Recorro el inventario de productos        \n",
    "        for producto in self.inventario:\n",
    "            # Compruebo si hay coincidencias de patron en el nombre del producto\n",
    "            coincidencias = re.search(patron, producto['nombre'].lower())\n",
    "            if coincidencias:\n",
    "                # Agrego los productos con coincidencias a una lista\n",
    "                productos_encontrados.append(producto)\n",
    "        if productos_encontrados:\n",
    "            # Devuelvo la lista si tiene productos\n",
    "            return productos_encontrados\n",
    "        else:\n",
    "            # Si no, muestro mensaje de error\n",
    "            print('No hay productos con ese patron en el nombre.')\n",
    "\n",
    "    # Metodo 8. Realizar compra\n",
    "    def realizar_compra(self):\n",
    "        # Muestro el inventario\n",
    "        print(f'El inventario actual es: {self.inventario}')\n",
    "        # Inicializo la variable 'comprar' como 's'\n",
    "        comprar = 's'\n",
    "        # Inicializo el carrito donde ire agregando los precios totales (precio*uds) de los productos\n",
    "        carrito = []\n",
    "        # Utilizo el bucle while para poder realizar multiples compras\n",
    "        while comprar == 's':\n",
    "            # Solicito al cliente ingresar el nombre del producto a comprar\n",
    "            nombre = input('Introduce el nombre del producto que quieres comprar:').lower()\n",
    "            # Itero por el inventario para ver si esta el producto\n",
    "            for producto in self.inventario:\n",
    "                # Compruebo si esta el nombre de producto introducido por el comprador                \n",
    "                if nombre == producto['nombre'].lower():\n",
    "                    # Si lo esta, le solicito al cliente el numero de unidades que quiere\n",
    "                    unidades = int(input('¿Cuantas unidades quieres?'))\n",
    "                    # Obtengo el precio, lo multiplico por las unidades que quiere y lo agrego al carrito\n",
    "                    precio = producto['precio']\n",
    "                    carrito.append(precio*unidades)\n",
    "                    # Actualizo el inventario\n",
    "                    producto['cantidad'] -= unidades\n",
    "                    print(f'{unidades} unidades de {nombre} se han añadido al carrito por el total de {precio*unidades}€.')\n",
    "                    break\n",
    "            else:\n",
    "                # Si no se ha llegado a encontrar el producto devuelvo un mensaje de error\n",
    "                print(f'El producto {nombre} no esta en el inventario.')\n",
    "            # Pregunto si quiere seguir comprando para salir del bucle o no\n",
    "            comprar = input('Quieres seguir comprando? s/n').lower()\n",
    "        # Muestro como ha quedado el inventario despues de actualizarlo\n",
    "        print(f'El inventario actualizazo es: {self.inventario}')\n",
    "        # Sumo las compras del carrito\n",
    "        costo_total = sum(carrito)\n",
    "        # Devuelvo el costo total\n",
    "        return f'El costo total de tu compra es {costo_total}€.'\n",
    "    \n",
    "    # Metodo 9. Procesar pago y calcular cambio\n",
    "    def procesar_pago(self):\n",
    "        # Empleo try... except para manejar excepciones\n",
    "        try:\n",
    "            # Solicito al cliente ingresar la cantidad total y de pago\n",
    "            costo = round(float(input('Introduce el costo total de tu compra:')),2)\n",
    "            pago = round(float(input('Ahora introduce cuanto vas a pagar:')),2)\n",
    "            # Calculo el cambio\n",
    "            cambio = round(pago - costo, 2)\n",
    "            # Compruebo que la cantidad de pago es suficiente\n",
    "            if pago >= costo:\n",
    "                print(f'El pago se ha realizado correctamente. Tu cambio es de {cambio}€.')\n",
    "            else:\n",
    "                print(f'Error. El coste total es de {costo}€ y le falta {abs(cambio)}€.')\n",
    "        except ValueError:\n",
    "            # Muestro mensaje de error si se ingresa un valor no numerico\n",
    "            print(\"Error. No se ha ingresado una cantidad valida.\")\n",
    "\n",
    "    # Metodo 10. Agregar nuevo cliente con nombre e email\n",
    "    def agregar_cliente(self, nombre, email):\n",
    "        # Recorro el diccionario de clientes\n",
    "        for cliente in self.clientes.values():\n",
    "            # Compruebo si ya existe un cliente con ese correo electronico\n",
    "            if email in cliente.values():\n",
    "                # Si existe muestro mensaje de error\n",
    "                return f'Ya existe un cliente con el correo electronico {email}.'\n",
    "        else:\n",
    "            # Genero un id de cliente segun la longitud del diccionario clientes\n",
    "            id_cliente = len(self.clientes) + 1\n",
    "            # Creo el diccionario del cliente\n",
    "            self.clientes[id_cliente] = {}\n",
    "            # Almaceno dentro sus datos\n",
    "            self.clientes[id_cliente]['nombre'] = nombre\n",
    "            self.clientes[id_cliente]['email'] = email\n",
    "            # Ademas, cada cliente tendra una lista del historial de compras\n",
    "            self.clientes[id_cliente]['compras'] = []\n",
    "            # Confirmo que se ha agregado correctamente\n",
    "            return f'El cliente {nombre} con email {email} se ha agregado correctamente.'\n",
    "\n",
    "    # Metodo 11. Mostrar Lista de clientes registrados\n",
    "    def ver_clientes(self):\n",
    "        # Recorro la base de datos de clientes\n",
    "        for cliente in self.clientes:\n",
    "            # Obtengo los datos nombre e email y los muestro\n",
    "            nombre = self.clientes[cliente]['nombre']\n",
    "            email = self.clientes[cliente]['email']\n",
    "            return f'Nombre: {nombre} , Correo electronico: {email}'\n",
    "\n",
    "    # Metodo 12. Registrar compra de cliente y actualizar ventas totales\n",
    "    def registrar_compra(self, nombre_cliente, carrito):\n",
    "        # Recorro los valores del diccionario clientes\n",
    "        for info_cliente in self.clientes.values():\n",
    "            # Compruebo si el ciente esta en el diccionario de clientes\n",
    "            if nombre_cliente.lower() == info_cliente['nombre'].lower():\n",
    "                # Inicializo el total de la compra en 0\n",
    "                total_compra = 0\n",
    "                # Recorro el carrito\n",
    "                for info_producto in carrito.values():\n",
    "                    # Obtengo el precio y la cantidad de cada producto y calculo el total\n",
    "                    precio = info_producto['precio']\n",
    "                    cantidad = info_producto['cantidad']\n",
    "                    total_compra += precio * cantidad\n",
    "                # Cada compra sera un diccionario que añado a la lista del historial de compras\n",
    "                info_cliente['compras'].append({'Carrito': carrito, 'Total' : total_compra})\n",
    "                print(f'La compra se ha registrado correctamente en el historial de compras de {nombre_cliente}.')\n",
    "                # Actualizo las ventas totales\n",
    "                self.ventas_totales += total_compra\n",
    "                print(f'Las ventas totales han aumentado a {self.ventas_totales}€.')\n",
    "                break\n",
    "        else:\n",
    "            # Si no esta el cliente en el diccionario se muestra un mensaje de error\n",
    "            print(f'No se puede registrar la compra porque {nombre_cliente} no esta en la base de datos.')\n",
    "        \n",
    "    # Metodo 13. Mostrar el historial de compras de un cliente\n",
    "    def ver_compras_cliente(self, nombre_cliente):\n",
    "        # Recorro los valores del diccionario de clientes\n",
    "        for info_cliente in self.clientes.values():\n",
    "            # Compruebo si el ciente esta en el diccionario de clientes\n",
    "            if nombre_cliente.lower() == info_cliente['nombre'].lower():\n",
    "                # Recorro el historial de compras\n",
    "                for compra in info_cliente['compras']:\n",
    "                    # Recorro los productos de cada compra\n",
    "                    for producto,info_producto in compra['Carrito'].items():\n",
    "                        # Obtengo el precio y la cantidad de cada producto y calculo el total\n",
    "                        precio = info_producto['precio']\n",
    "                        cantidad = info_producto['cantidad']\n",
    "                        total_compra = compra['Total']\n",
    "                        # Muestro los detalles de cada producto\n",
    "                        print(f'Producto: {producto}, Precio: {precio}€, Cantidad: {cantidad}')\n",
    "                    # Muestro el total de la compra\n",
    "                    print(f'Total compra: {total_compra}€\\n')\n",
    "                break\n",
    "        else:\n",
    "            # Si no esta el cliente en el diccionario se muestra un mensaje de error\n",
    "            print(f'No se puede mostrar el historial porque {nombre_cliente} no esta en la base de datos.')\n",
    "\n",
    "    # Metodo 14. Mostrar ventas totales\n",
    "    def calcular_ventas_totales(self):\n",
    "        # Ya se ha ido calculando en el registro de compras, imprimo el resultado\n",
    "        print(f'Las ventas totales son de {self.ventas_totales}€.') "
   ]
  },
  {
   "cell_type": "markdown",
   "metadata": {},
   "source": [
    "### Método constructor"
   ]
  },
  {
   "cell_type": "code",
   "execution_count": 2,
   "metadata": {},
   "outputs": [],
   "source": [
    "# Creo una instancia de la clase TiendaOnline\n",
    "tienda = TiendaOnline('Tienda Online')"
   ]
  },
  {
   "cell_type": "code",
   "execution_count": 3,
   "metadata": {},
   "outputs": [
    {
     "data": {
      "text/plain": [
       "{'nombre': 'Tienda Online',\n",
       " 'inventario': [],\n",
       " 'clientes': {},\n",
       " 'ventas_totales': 0.0}"
      ]
     },
     "execution_count": 3,
     "metadata": {},
     "output_type": "execute_result"
    }
   ],
   "source": [
    "# Compruebo que se ha creado\n",
    "tienda.__dict__"
   ]
  },
  {
   "cell_type": "markdown",
   "metadata": {},
   "source": [
    "### Método 1. Agregar producto"
   ]
  },
  {
   "cell_type": "code",
   "execution_count": 4,
   "metadata": {},
   "outputs": [
    {
     "name": "stdout",
     "output_type": "stream",
     "text": [
      "El producto Camisa se ha añadido al inventario.\n"
     ]
    },
    {
     "data": {
      "text/plain": [
       "[{'nombre': 'Camisa', 'precio': 20, 'cantidad': 40}]"
      ]
     },
     "execution_count": 4,
     "metadata": {},
     "output_type": "execute_result"
    }
   ],
   "source": [
    "# Metodo 1. Agregar producto\n",
    "nuevo_producto = tienda.agregar_producto('Camisa', 20, 40)\n",
    "# Compruebo que se ha añadido al inventario\n",
    "tienda.inventario"
   ]
  },
  {
   "cell_type": "code",
   "execution_count": 5,
   "metadata": {},
   "outputs": [
    {
     "name": "stdout",
     "output_type": "stream",
     "text": [
      "El producto Camisa ya estaba en el inventario. La cantidad ha sido actualizada a 10.\n"
     ]
    },
    {
     "data": {
      "text/plain": [
       "[{'nombre': 'Camisa', 'precio': 20, 'cantidad': 10}]"
      ]
     },
     "execution_count": 5,
     "metadata": {},
     "output_type": "execute_result"
    }
   ],
   "source": [
    "# Vuelvo a añadirlo para comprobar si se actualiza la nueva cantidad introducida\n",
    "nuevo_producto1 = tienda.agregar_producto('Camisa', 20, 10)\n",
    "# Compruebo que se ha actualizado la cantidad\n",
    "tienda.inventario"
   ]
  },
  {
   "cell_type": "code",
   "execution_count": 6,
   "metadata": {},
   "outputs": [
    {
     "name": "stdout",
     "output_type": "stream",
     "text": [
      "El producto Pantalon se ha añadido al inventario.\n",
      "El producto Zapatos se ha añadido al inventario.\n"
     ]
    }
   ],
   "source": [
    "# Añado mas productos\n",
    "nuevo_producto2 = tienda.agregar_producto('Pantalon', 30, 30)\n",
    "nuevo_producto3 = tienda.agregar_producto('Zapatos', 50, 40)"
   ]
  },
  {
   "cell_type": "markdown",
   "metadata": {},
   "source": [
    "### Método 2. Mostrar inventario de productos"
   ]
  },
  {
   "cell_type": "code",
   "execution_count": 7,
   "metadata": {},
   "outputs": [
    {
     "name": "stdout",
     "output_type": "stream",
     "text": [
      "Nombre: Camisa, Precio: 20, Cantidad: 10\n",
      "Nombre: Pantalon, Precio: 30, Cantidad: 30\n",
      "Nombre: Zapatos, Precio: 50, Cantidad: 40\n"
     ]
    }
   ],
   "source": [
    "tienda.ver_inventario()"
   ]
  },
  {
   "cell_type": "markdown",
   "metadata": {},
   "source": [
    "### Método 3. Buscar producto en inventario"
   ]
  },
  {
   "cell_type": "code",
   "execution_count": 8,
   "metadata": {},
   "outputs": [
    {
     "data": {
      "text/plain": [
       "'Nombre: Camisa, Precio: 20, Cantidad: 10'"
      ]
     },
     "execution_count": 8,
     "metadata": {},
     "output_type": "execute_result"
    }
   ],
   "source": [
    "# Metodo 3. Busco un producto en el inventario\n",
    "tienda.buscar_producto('Camisa')"
   ]
  },
  {
   "cell_type": "code",
   "execution_count": 9,
   "metadata": {},
   "outputs": [
    {
     "name": "stdout",
     "output_type": "stream",
     "text": [
      "El producto Patucos no se encuentra en el inventario.\n"
     ]
    }
   ],
   "source": [
    "# Busco un producto que se que no esta en el inventario para comprobar que me devuelve error\n",
    "tienda.buscar_producto('Patucos')"
   ]
  },
  {
   "cell_type": "markdown",
   "metadata": {},
   "source": [
    "### Método 4. Actualizar stock de producto en inventario"
   ]
  },
  {
   "cell_type": "code",
   "execution_count": 10,
   "metadata": {},
   "outputs": [
    {
     "data": {
      "text/plain": [
       "'Nombre: Camisa, Precio: 20, Cantidad: 5'"
      ]
     },
     "execution_count": 10,
     "metadata": {},
     "output_type": "execute_result"
    }
   ],
   "source": [
    "# Metodo 4. Actualizo stock de camisa\n",
    "tienda.actualizar_stock('Camisa', -5)"
   ]
  },
  {
   "cell_type": "code",
   "execution_count": 11,
   "metadata": {},
   "outputs": [
    {
     "name": "stdout",
     "output_type": "stream",
     "text": [
      "El producto Jersey no se encuentra en el inventario.\n"
     ]
    }
   ],
   "source": [
    "# Itento actualizar un producto que no este en el inventario\n",
    "tienda.actualizar_stock('Jersey', 10)"
   ]
  },
  {
   "cell_type": "markdown",
   "metadata": {},
   "source": [
    "### Método 5. Eliminar un producto del inventario"
   ]
  },
  {
   "cell_type": "code",
   "execution_count": 12,
   "metadata": {},
   "outputs": [
    {
     "name": "stdout",
     "output_type": "stream",
     "text": [
      "El producto Camisa se ha eliminado correctamente.\n"
     ]
    },
    {
     "data": {
      "text/plain": [
       "[{'nombre': 'Pantalon', 'precio': 30, 'cantidad': 30},\n",
       " {'nombre': 'Zapatos', 'precio': 50, 'cantidad': 40}]"
      ]
     },
     "execution_count": 12,
     "metadata": {},
     "output_type": "execute_result"
    }
   ],
   "source": [
    "# Metodo 5. Elimino producto del inventario si existe\n",
    "tienda.eliminar_producto('Camisa')"
   ]
  },
  {
   "cell_type": "code",
   "execution_count": 13,
   "metadata": {},
   "outputs": [
    {
     "name": "stdout",
     "output_type": "stream",
     "text": [
      "El producto Camisa no se encuentra en el inventario.\n"
     ]
    }
   ],
   "source": [
    "# Elimino un producto que ya no esta en el inventario para obtener el mensaje de error\n",
    "tienda.eliminar_producto('Camisa')"
   ]
  },
  {
   "cell_type": "markdown",
   "metadata": {},
   "source": [
    "### Método 6. Calcular valor total de inventario"
   ]
  },
  {
   "cell_type": "code",
   "execution_count": 14,
   "metadata": {},
   "outputs": [
    {
     "data": {
      "text/plain": [
       "2900"
      ]
     },
     "execution_count": 14,
     "metadata": {},
     "output_type": "execute_result"
    }
   ],
   "source": [
    "# Metodo 6. Calcular el valor total del inventario\n",
    "tienda.calcular_valor_inventario()"
   ]
  },
  {
   "cell_type": "markdown",
   "metadata": {},
   "source": [
    "### Método 7. Buscar producto con patron en nombre"
   ]
  },
  {
   "cell_type": "code",
   "execution_count": 15,
   "metadata": {},
   "outputs": [
    {
     "data": {
      "text/plain": [
       "[{'nombre': 'Pantalon', 'precio': 30, 'cantidad': 30},\n",
       " {'nombre': 'Zapatos', 'precio': 50, 'cantidad': 40}]"
      ]
     },
     "execution_count": 15,
     "metadata": {},
     "output_type": "execute_result"
    }
   ],
   "source": [
    "# Metodo 7. Buscar producto con patron en nombre\n",
    "# En el inventario tenemos Pantalon y Zapatos, buscare los nombres que contenga 'pa'\n",
    "tienda.buscar_producto_regex('.*pa.*')"
   ]
  },
  {
   "cell_type": "code",
   "execution_count": 16,
   "metadata": {},
   "outputs": [
    {
     "data": {
      "text/plain": [
       "[{'nombre': 'Zapatos', 'precio': 50, 'cantidad': 40}]"
      ]
     },
     "execution_count": 16,
     "metadata": {},
     "output_type": "execute_result"
    }
   ],
   "source": [
    "# Pruebo a buscar nombres que empiecen por 'za'\n",
    "tienda.buscar_producto_regex(r'\\bza\\w*')"
   ]
  },
  {
   "cell_type": "code",
   "execution_count": 17,
   "metadata": {},
   "outputs": [
    {
     "name": "stdout",
     "output_type": "stream",
     "text": [
      "No hay productos con ese patron en el nombre.\n"
     ]
    }
   ],
   "source": [
    "# Compruebo el mensaje de error si busco nombres que empiecen por 'ca'\n",
    "tienda.buscar_producto_regex(r'\\bca\\w*')"
   ]
  },
  {
   "cell_type": "markdown",
   "metadata": {},
   "source": [
    "### Método 8. Realizar compra seleccionando nombre producto"
   ]
  },
  {
   "cell_type": "code",
   "execution_count": 18,
   "metadata": {},
   "outputs": [
    {
     "name": "stdout",
     "output_type": "stream",
     "text": [
      "El inventario actual es: [{'nombre': 'Pantalon', 'precio': 30, 'cantidad': 30}, {'nombre': 'Zapatos', 'precio': 50, 'cantidad': 40}]\n",
      "1 unidades de zapatos se han añadido al carrito por el total de 50€.\n",
      "El producto camisa no esta en el inventario.\n",
      "2 unidades de pantalon se han añadido al carrito por el total de 60€.\n",
      "El producto jersey no esta en el inventario.\n",
      "El inventario actualizazo es: [{'nombre': 'Pantalon', 'precio': 30, 'cantidad': 28}, {'nombre': 'Zapatos', 'precio': 50, 'cantidad': 39}]\n"
     ]
    },
    {
     "data": {
      "text/plain": [
       "'El costo total de tu compra es 110€.'"
      ]
     },
     "execution_count": 18,
     "metadata": {},
     "output_type": "execute_result"
    }
   ],
   "source": [
    "# Metodo 8. Realizo compra seleccionando nombre de producto\n",
    "tienda.realizar_compra()"
   ]
  },
  {
   "cell_type": "markdown",
   "metadata": {},
   "source": [
    "### Método 9. Procesa el pago de una compra"
   ]
  },
  {
   "cell_type": "code",
   "execution_count": 19,
   "metadata": {},
   "outputs": [
    {
     "name": "stdout",
     "output_type": "stream",
     "text": [
      "El pago se ha realizado correctamente. Tu cambio es de 40.0€.\n"
     ]
    }
   ],
   "source": [
    "# Metodo 9. Procesa el pago de una compra y calcula el cambio\n",
    "tienda.procesar_pago()"
   ]
  },
  {
   "cell_type": "code",
   "execution_count": 20,
   "metadata": {},
   "outputs": [
    {
     "name": "stdout",
     "output_type": "stream",
     "text": [
      "Error. El coste total es de 110.0€ y le falta 10.0€.\n"
     ]
    }
   ],
   "source": [
    "# Compruebo mensaje de error si no tengo dinero suficiente\n",
    "tienda.procesar_pago()"
   ]
  },
  {
   "cell_type": "code",
   "execution_count": 21,
   "metadata": {},
   "outputs": [
    {
     "name": "stdout",
     "output_type": "stream",
     "text": [
      "Error. No se ha ingresado una cantidad valida.\n"
     ]
    }
   ],
   "source": [
    "# Compruebo mensaje de error si no introduzco un numero\n",
    "tienda.procesar_pago()"
   ]
  },
  {
   "cell_type": "markdown",
   "metadata": {},
   "source": [
    "### Método 10. Agregar cliente"
   ]
  },
  {
   "cell_type": "code",
   "execution_count": 22,
   "metadata": {},
   "outputs": [
    {
     "data": {
      "text/plain": [
       "'El cliente Ana Ruiz con email anaruiz@gmail.com se ha agregado correctamente.'"
      ]
     },
     "execution_count": 22,
     "metadata": {},
     "output_type": "execute_result"
    }
   ],
   "source": [
    "# Agrego a un nuevo cliente con nombre y correo como parametros\n",
    "tienda.agregar_cliente('Ana Ruiz', 'anaruiz@gmail.com')"
   ]
  },
  {
   "cell_type": "code",
   "execution_count": 23,
   "metadata": {},
   "outputs": [
    {
     "data": {
      "text/plain": [
       "'El cliente Pepe Garcia con email pepegarcia@gmail.com se ha agregado correctamente.'"
      ]
     },
     "execution_count": 23,
     "metadata": {},
     "output_type": "execute_result"
    }
   ],
   "source": [
    "# Agrego otro mas para comprobar que se van añadiendo al diccionario de clientes\n",
    "tienda.agregar_cliente('Pepe Garcia', 'pepegarcia@gmail.com')"
   ]
  },
  {
   "cell_type": "code",
   "execution_count": 24,
   "metadata": {},
   "outputs": [
    {
     "data": {
      "text/plain": [
       "{1: {'nombre': 'Ana Ruiz', 'email': 'anaruiz@gmail.com', 'compras': []},\n",
       " 2: {'nombre': 'Pepe Garcia', 'email': 'pepegarcia@gmail.com', 'compras': []}}"
      ]
     },
     "execution_count": 24,
     "metadata": {},
     "output_type": "execute_result"
    }
   ],
   "source": [
    "# Compruebo que se han añadido correctamente\n",
    "tienda.clientes"
   ]
  },
  {
   "cell_type": "code",
   "execution_count": 25,
   "metadata": {},
   "outputs": [
    {
     "data": {
      "text/plain": [
       "'Ya existe un cliente con el correo electronico anaruiz@gmail.com.'"
      ]
     },
     "execution_count": 25,
     "metadata": {},
     "output_type": "execute_result"
    }
   ],
   "source": [
    "# Compruebo el mensaje de error si ya existe un cliente con ese nombre e email\n",
    "tienda.agregar_cliente('Ana Ruiz', 'anaruiz@gmail.com')"
   ]
  },
  {
   "cell_type": "markdown",
   "metadata": {},
   "source": [
    "### Método 11. Mostrar lista de clientes registrados"
   ]
  },
  {
   "cell_type": "code",
   "execution_count": 26,
   "metadata": {},
   "outputs": [
    {
     "data": {
      "text/plain": [
       "'Nombre: Ana Ruiz , Correo electronico: anaruiz@gmail.com'"
      ]
     },
     "execution_count": 26,
     "metadata": {},
     "output_type": "execute_result"
    }
   ],
   "source": [
    "tienda.ver_clientes()"
   ]
  },
  {
   "cell_type": "markdown",
   "metadata": {},
   "source": [
    "### Método 12. Registrar una compra para un cliente y actualizar ventas totales"
   ]
  },
  {
   "cell_type": "code",
   "execution_count": 27,
   "metadata": {},
   "outputs": [
    {
     "name": "stdout",
     "output_type": "stream",
     "text": [
      "La compra se ha registrado correctamente en el historial de compras de Ana Ruiz.\n",
      "Las ventas totales han aumentado a 50.0€.\n"
     ]
    }
   ],
   "source": [
    "# Metodo 12. Registro compra de cliente y actualizo ventas totales\n",
    "carrito_cliente1 = {'Zapatos': {'precio': 50, 'cantidad': 1}}\n",
    "\n",
    "tienda.registrar_compra('Ana Ruiz', carrito_cliente1)"
   ]
  },
  {
   "cell_type": "code",
   "execution_count": 28,
   "metadata": {},
   "outputs": [
    {
     "name": "stdout",
     "output_type": "stream",
     "text": [
      "La compra se ha registrado correctamente en el historial de compras de Pepe Garcia.\n",
      "Las ventas totales han aumentado a 140.0€.\n",
      "La compra se ha registrado correctamente en el historial de compras de Pepe Garcia.\n",
      "Las ventas totales han aumentado a 300.0€.\n"
     ]
    }
   ],
   "source": [
    "# Registro mas compras\n",
    "carrito_cliente2 = {'Pantalon': {'precio': 30, 'cantidad': 3}}\n",
    "tienda.registrar_compra('Pepe Garcia', carrito_cliente2)\n",
    "\n",
    "carrito_cliente3 = {'Zapatos': {'precio': 50, 'cantidad': 2}, 'Camisa': {'precio': 20, 'cantidad': 3}}\n",
    "tienda.registrar_compra('Pepe Garcia', carrito_cliente3)"
   ]
  },
  {
   "cell_type": "code",
   "execution_count": 29,
   "metadata": {},
   "outputs": [
    {
     "name": "stdout",
     "output_type": "stream",
     "text": [
      "No se puede registrar la compra porque Lola Martinez no esta en la base de datos.\n"
     ]
    }
   ],
   "source": [
    "# Compruebo mensaje de error registrando compra con un nombre que no esta en la base de datos\n",
    "carrito_cliente4 = {'Camisa': {'precio': 20, 'cantidad': 3}}\n",
    "\n",
    "tienda.registrar_compra('Lola Martinez', carrito_cliente4)"
   ]
  },
  {
   "cell_type": "markdown",
   "metadata": {},
   "source": [
    "### Método 13. Mostrar historial de compra de cliente"
   ]
  },
  {
   "cell_type": "code",
   "execution_count": 30,
   "metadata": {},
   "outputs": [
    {
     "name": "stdout",
     "output_type": "stream",
     "text": [
      "Producto: Pantalon, Precio: 30€, Cantidad: 3\n",
      "Total compra: 90€\n",
      "\n",
      "Producto: Zapatos, Precio: 50€, Cantidad: 2\n",
      "Producto: Camisa, Precio: 20€, Cantidad: 3\n",
      "Total compra: 160€\n",
      "\n"
     ]
    }
   ],
   "source": [
    "# Metodo 13. Mostrar historial de compra de cliente\n",
    "tienda.ver_compras_cliente('Pepe Garcia')"
   ]
  },
  {
   "cell_type": "code",
   "execution_count": 31,
   "metadata": {},
   "outputs": [
    {
     "name": "stdout",
     "output_type": "stream",
     "text": [
      "No se puede mostrar el historial porque Lola Martinez no esta en la base de datos.\n"
     ]
    }
   ],
   "source": [
    "# Compruebo mensaje de error si se introduce un nombre que no esta en la base de datos\n",
    "tienda.ver_compras_cliente('Lola Martinez')"
   ]
  },
  {
   "cell_type": "markdown",
   "metadata": {},
   "source": [
    "### Método 14. Mostrar ventas totales de tienda"
   ]
  },
  {
   "cell_type": "code",
   "execution_count": 32,
   "metadata": {},
   "outputs": [
    {
     "name": "stdout",
     "output_type": "stream",
     "text": [
      "Las ventas totales son de 300.0€.\n"
     ]
    }
   ],
   "source": [
    "# Metodo 14. Mostrar ventas totales de tienda\n",
    "tienda.calcular_ventas_totales()"
   ]
  }
 ],
 "metadata": {
  "kernelspec": {
   "display_name": "Python 3",
   "language": "python",
   "name": "python3"
  },
  "language_info": {
   "codemirror_mode": {
    "name": "ipython",
    "version": 3
   },
   "file_extension": ".py",
   "mimetype": "text/x-python",
   "name": "python",
   "nbconvert_exporter": "python",
   "pygments_lexer": "ipython3",
   "version": "3.6.9"
  }
 },
 "nbformat": 4,
 "nbformat_minor": 2
}
